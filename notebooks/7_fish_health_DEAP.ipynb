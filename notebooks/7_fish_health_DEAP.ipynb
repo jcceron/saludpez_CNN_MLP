{
 "cells": [
  {
   "cell_type": "markdown",
   "id": "43e05447",
   "metadata": {},
   "source": [
    "# Optimización de hiperparámetros mediante algoritmos genéticos y evaluación final del modelo multimodal\n",
    "\n",
    "### Objetivo\n",
    "\n",
    "Encontrar la combinación óptima de tasa de aprendizaje, tamaño de lote y dimensión oculta del MLP de sensores usando un algoritmo genético, reentrenar el modelo con imágenes preprocesadas de 224x224 y datos de sensores, y validar su desempeño final a través de métricas (accuracy, precision, recall, F1-score) y matriz de confusión, garantizando una clasificación de salud de peces robusta y de alta precisión."
   ]
  },
  {
   "cell_type": "code",
   "execution_count": 1,
   "id": "2902b4ec",
   "metadata": {},
   "outputs": [],
   "source": [
    "import sys\n",
    "import os\n",
    "# Agrega la raíz del proyecto al path\n",
    "project_root = os.path.abspath(os.path.join(os.getcwd(), \"..\"))\n",
    "if project_root not in sys.path:\n",
    "    sys.path.insert(0, project_root)"
   ]
  },
  {
   "cell_type": "code",
   "execution_count": 2,
   "id": "dcd622ed",
   "metadata": {},
   "outputs": [
    {
     "name": "stdout",
     "output_type": "stream",
     "text": [
      "==> Usando dispositivo: cuda\n"
     ]
    }
   ],
   "source": [
    "# 0. Se Instala DEAP (antes de la importación):\n",
    "# pip install deap\n",
    "\n",
    "import os\n",
    "import numpy as np\n",
    "import pandas as pd\n",
    "import torch\n",
    "import torch.nn as nn\n",
    "import torch.optim as optim\n",
    "from torch.utils.data import Dataset, DataLoader, Subset\n",
    "from torchvision import transforms\n",
    "from PIL import Image, UnidentifiedImageError\n",
    "from sklearn.model_selection import StratifiedShuffleSplit\n",
    "from sklearn.metrics import accuracy_score, confusion_matrix\n",
    "from sklearn.metrics import precision_recall_fscore_support, classification_report\n",
    "from tqdm import trange, tqdm\n",
    "import matplotlib.pyplot as plt\n",
    "\n",
    "# DEAP para GA\n",
    "from deap import base, creator, tools, algorithms\n",
    "\n",
    "# Importación librerías personalizadas\n",
    "from scripts.deap_pecesDataset import PecesDataset\n",
    "from scripts.deap_loadAndSplit import load_and_split\n",
    "from scripts.deap_MLPMultimodal import MLPMultimodal\n",
    "#from scripts.deap_makeEvalFuntion import make_eval_function\n",
    "from scripts.deap_runGeneticSearch import run_genetic_search\n",
    "from scripts.deap_trainAndSaveBest import train_and_save_best\n",
    "from scripts.deap_splitDataset import split_dataset\n"
   ]
  },
  {
   "cell_type": "code",
   "execution_count": 3,
   "id": "203db3aa",
   "metadata": {},
   "outputs": [
    {
     "name": "stdout",
     "output_type": "stream",
     "text": [
      "torch.cuda.is_available(): True\n",
      "torch.cuda.device_count(): 1\n",
      "torch.version.cuda: 11.8\n",
      "torch.backends.cudnn.enabled: True\n"
     ]
    }
   ],
   "source": [
    "import torch\n",
    "\n",
    "print(\"torch.cuda.is_available():\", torch.cuda.is_available())\n",
    "print(\"torch.cuda.device_count():\", torch.cuda.device_count())\n",
    "print(\"torch.version.cuda:\", torch.version.cuda)\n",
    "print(\"torch.backends.cudnn.enabled:\", torch.backends.cudnn.enabled)\n"
   ]
  },
  {
   "cell_type": "markdown",
   "id": "0222a48e",
   "metadata": {},
   "source": [
    "### Configuración de datos"
   ]
  },
  {
   "cell_type": "code",
   "execution_count": 4,
   "id": "247a79a2",
   "metadata": {},
   "outputs": [],
   "source": [
    "# Parámetros globales (rutas y columnas)\n",
    "sensor_cols    = ['temperatura','pH','conductividad','TDS','DO_mgL']\n",
    "label_col      = 'etiqueta_kmeans'\n",
    "preproc_dir    = \"../data/images_preproc\"\n",
    "label_csv      = \"../data/labels2_kmeans_limpio.csv\"\n",
    "nombre_img_col = 'imagen'"
   ]
  },
  {
   "cell_type": "code",
   "execution_count": 5,
   "id": "8e44d540",
   "metadata": {},
   "outputs": [
    {
     "name": "stderr",
     "output_type": "stream",
     "text": [
      "GA Generations:  20%|██        | 1/5 [17:26<1:09:44, 1046.14s/it]"
     ]
    },
    {
     "name": "stdout",
     "output_type": "stream",
     "text": [
      "Gen 1/5 — avg: 0.9603, max: 0.9972\n"
     ]
    },
    {
     "name": "stderr",
     "output_type": "stream",
     "text": [
      "GA Generations:  40%|████      | 2/5 [22:43<30:51, 617.29s/it]   "
     ]
    },
    {
     "name": "stdout",
     "output_type": "stream",
     "text": [
      "Gen 2/5 — avg: 0.9742, max: 0.9972\n"
     ]
    },
    {
     "name": "stderr",
     "output_type": "stream",
     "text": [
      "GA Generations:  60%|██████    | 3/5 [26:36<14:44, 442.08s/it]"
     ]
    },
    {
     "name": "stdout",
     "output_type": "stream",
     "text": [
      "Gen 3/5 — avg: 0.9856, max: 0.9972\n"
     ]
    },
    {
     "name": "stderr",
     "output_type": "stream",
     "text": [
      "GA Generations:  80%|████████  | 4/5 [36:23<08:19, 499.34s/it]"
     ]
    },
    {
     "name": "stdout",
     "output_type": "stream",
     "text": [
      "Gen 4/5 — avg: 0.9861, max: 0.9972\n"
     ]
    },
    {
     "name": "stderr",
     "output_type": "stream",
     "text": [
      "GA Generations: 100%|██████████| 5/5 [46:20<00:00, 556.13s/it]\n"
     ]
    },
    {
     "name": "stdout",
     "output_type": "stream",
     "text": [
      "Gen 5/5 — avg: 0.9797, max: 0.9972\n",
      "\n",
      "--- Mejor Individuo ---\n",
      "lr = 0.008061\n",
      "batch_size = 24\n",
      "hidden_dim = 91\n",
      "Fitness = 0.9972\n",
      "\n"
     ]
    },
    {
     "name": "stderr",
     "output_type": "stream",
     "text": [
      "Reentrenamiento:   5%|▌         | 1/20 [00:32<10:21, 32.72s/it]"
     ]
    },
    {
     "name": "stdout",
     "output_type": "stream",
     "text": [
      "Epoch 01 — train_loss: 0.4354, val_acc: 0.9767 ✅\n"
     ]
    },
    {
     "name": "stderr",
     "output_type": "stream",
     "text": [
      "Reentrenamiento:  10%|█         | 2/20 [01:00<08:51, 29.54s/it]"
     ]
    },
    {
     "name": "stdout",
     "output_type": "stream",
     "text": [
      "Epoch 02 — train_loss: 0.0551, val_acc: 0.9373 \n"
     ]
    },
    {
     "name": "stderr",
     "output_type": "stream",
     "text": [
      "Reentrenamiento:  15%|█▌        | 3/20 [01:27<08:08, 28.76s/it]"
     ]
    },
    {
     "name": "stdout",
     "output_type": "stream",
     "text": [
      "Epoch 03 — train_loss: 0.0565, val_acc: 0.9831 ✅\n"
     ]
    },
    {
     "name": "stderr",
     "output_type": "stream",
     "text": [
      "Reentrenamiento:  20%|██        | 4/20 [01:55<07:31, 28.22s/it]"
     ]
    },
    {
     "name": "stdout",
     "output_type": "stream",
     "text": [
      "Epoch 04 — train_loss: 0.0482, val_acc: 0.9817 \n"
     ]
    },
    {
     "name": "stderr",
     "output_type": "stream",
     "text": [
      "Reentrenamiento:  25%|██▌       | 5/20 [02:23<07:02, 28.15s/it]"
     ]
    },
    {
     "name": "stdout",
     "output_type": "stream",
     "text": [
      "Epoch 05 — train_loss: 0.0474, val_acc: 0.9887 ✅\n"
     ]
    },
    {
     "name": "stderr",
     "output_type": "stream",
     "text": [
      "Reentrenamiento:  30%|███       | 6/20 [02:50<06:30, 27.92s/it]"
     ]
    },
    {
     "name": "stdout",
     "output_type": "stream",
     "text": [
      "Epoch 06 — train_loss: 0.0425, val_acc: 0.9542 \n"
     ]
    },
    {
     "name": "stderr",
     "output_type": "stream",
     "text": [
      "Reentrenamiento:  35%|███▌      | 7/20 [03:18<06:01, 27.81s/it]"
     ]
    },
    {
     "name": "stdout",
     "output_type": "stream",
     "text": [
      "Epoch 07 — train_loss: 0.0459, val_acc: 0.9859 \n"
     ]
    },
    {
     "name": "stderr",
     "output_type": "stream",
     "text": [
      "Reentrenamiento:  40%|████      | 8/20 [03:47<05:37, 28.09s/it]"
     ]
    },
    {
     "name": "stdout",
     "output_type": "stream",
     "text": [
      "Epoch 08 — train_loss: 0.0360, val_acc: 0.9789 \n"
     ]
    },
    {
     "name": "stderr",
     "output_type": "stream",
     "text": [
      "Reentrenamiento:  45%|████▌     | 9/20 [04:14<05:06, 27.88s/it]"
     ]
    },
    {
     "name": "stdout",
     "output_type": "stream",
     "text": [
      "Epoch 09 — train_loss: 0.0389, val_acc: 0.9711 \n"
     ]
    },
    {
     "name": "stderr",
     "output_type": "stream",
     "text": [
      "Reentrenamiento:  50%|█████     | 10/20 [04:43<04:41, 28.11s/it]"
     ]
    },
    {
     "name": "stdout",
     "output_type": "stream",
     "text": [
      "Epoch 10 — train_loss: 0.0200, val_acc: 0.9930 ✅\n"
     ]
    },
    {
     "name": "stderr",
     "output_type": "stream",
     "text": [
      "Reentrenamiento:  55%|█████▌    | 11/20 [05:11<04:12, 28.09s/it]"
     ]
    },
    {
     "name": "stdout",
     "output_type": "stream",
     "text": [
      "Epoch 11 — train_loss: 0.0159, val_acc: 0.9979 ✅\n"
     ]
    },
    {
     "name": "stderr",
     "output_type": "stream",
     "text": [
      "Reentrenamiento:  60%|██████    | 12/20 [05:38<03:43, 27.89s/it]"
     ]
    },
    {
     "name": "stdout",
     "output_type": "stream",
     "text": [
      "Epoch 12 — train_loss: 0.0145, val_acc: 0.9951 \n"
     ]
    },
    {
     "name": "stderr",
     "output_type": "stream",
     "text": [
      "Reentrenamiento:  65%|██████▌   | 13/20 [06:05<03:13, 27.70s/it]"
     ]
    },
    {
     "name": "stdout",
     "output_type": "stream",
     "text": [
      "Epoch 13 — train_loss: 0.0138, val_acc: 0.9922 \n"
     ]
    },
    {
     "name": "stderr",
     "output_type": "stream",
     "text": [
      "Reentrenamiento:  70%|███████   | 14/20 [06:33<02:46, 27.80s/it]"
     ]
    },
    {
     "name": "stdout",
     "output_type": "stream",
     "text": [
      "Epoch 14 — train_loss: 0.0143, val_acc: 0.9937 \n"
     ]
    },
    {
     "name": "stderr",
     "output_type": "stream",
     "text": [
      "Reentrenamiento:  75%|███████▌  | 15/20 [07:01<02:18, 27.69s/it]"
     ]
    },
    {
     "name": "stdout",
     "output_type": "stream",
     "text": [
      "Epoch 15 — train_loss: 0.0130, val_acc: 0.9965 \n"
     ]
    },
    {
     "name": "stderr",
     "output_type": "stream",
     "text": [
      "Reentrenamiento:  80%|████████  | 16/20 [07:28<01:50, 27.60s/it]"
     ]
    },
    {
     "name": "stdout",
     "output_type": "stream",
     "text": [
      "Epoch 16 — train_loss: 0.0107, val_acc: 0.9937 \n"
     ]
    },
    {
     "name": "stderr",
     "output_type": "stream",
     "text": [
      "Reentrenamiento:  85%|████████▌ | 17/20 [07:55<01:22, 27.45s/it]"
     ]
    },
    {
     "name": "stdout",
     "output_type": "stream",
     "text": [
      "Epoch 17 — train_loss: 0.0107, val_acc: 0.9951 \n"
     ]
    },
    {
     "name": "stderr",
     "output_type": "stream",
     "text": [
      "Reentrenamiento:  90%|█████████ | 18/20 [08:23<00:54, 27.42s/it]"
     ]
    },
    {
     "name": "stdout",
     "output_type": "stream",
     "text": [
      "Epoch 18 — train_loss: 0.0106, val_acc: 0.9951 \n"
     ]
    },
    {
     "name": "stderr",
     "output_type": "stream",
     "text": [
      "Reentrenamiento:  95%|█████████▌| 19/20 [08:50<00:27, 27.41s/it]"
     ]
    },
    {
     "name": "stdout",
     "output_type": "stream",
     "text": [
      "Epoch 19 — train_loss: 0.0104, val_acc: 0.9951 \n"
     ]
    },
    {
     "name": "stderr",
     "output_type": "stream",
     "text": [
      "Reentrenamiento: 100%|██████████| 20/20 [09:18<00:00, 27.92s/it]"
     ]
    },
    {
     "name": "stdout",
     "output_type": "stream",
     "text": [
      "Epoch 20 — train_loss: 0.0102, val_acc: 0.9951 \n",
      "\n",
      "🏁 Reentrenamiento completo. Mejor val_acc: 0.9979\n"
     ]
    },
    {
     "name": "stderr",
     "output_type": "stream",
     "text": [
      "\n"
     ]
    }
   ],
   "source": [
    "# =========================\n",
    "# 6) PIPELINE COMPLETO\n",
    "# =========================\n",
    "if __name__ == \"__main__\":\n",
    "    # 6.1 Carga y split\n",
    "    train_ds, val_ds = load_and_split()\n",
    "    # 6.2 Búsqueda genética\n",
    "    best = run_genetic_search(train_ds, val_ds,\n",
    "                              n_classes=len(np.unique(pd.read_csv(label_csv)[label_col])),\n",
    "                              pop_size=10, ngen=5,\n",
    "                              cxpb=0.5,\n",
    "                              mutpb=0.2,\n",
    "                              sensor_cols=sensor_cols)\n",
    "    \n",
    "    # 6.3 Reentrenar y guardar mejor modelo\n",
    "    train_and_save_best(best, \n",
    "                        train_ds, \n",
    "                        val_ds,\n",
    "                        sensor_cols=sensor_cols,\n",
    "                        label_csv=label_csv,\n",
    "                        label_col=label_col, \n",
    "                        modelo_path=\"modelos/best_model_deap.pt\")"
   ]
  },
  {
   "cell_type": "code",
   "execution_count": 6,
   "id": "a2c407d9",
   "metadata": {},
   "outputs": [],
   "source": [
    "# Lectura y preprocesamiento del DataFrame\n",
    "\n",
    "# 1) Leemos todo el CSV\n",
    "df = pd.read_csv(label_csv)\n",
    "\n",
    "# 2) Convertimos las columnas de sensores a numérico y quitamos filas con NaNs\n",
    "df[sensor_cols] = df[sensor_cols].apply(pd.to_numeric, errors='coerce')\n",
    "df = df.dropna(subset=sensor_cols).reset_index(drop=True)\n",
    "\n",
    "# 3) Extraemos el array de etiquetas para stratify\n",
    "labels = df[label_col].values\n",
    "#    -> Ejemplo: array(['enfermo','saludable','estres_leve', …], dtype=object)\n",
    "\n",
    "# 4) Creamos el Dataset completo\n",
    "full_ds = PecesDataset(\n",
    "    df,                # el DataFrame filtrado y limpio\n",
    "    preproc_dir,       # carpeta de imagenes \"../data/images_preproc\"\n",
    "    sensor_cols,       # nombres de columna de sensores ['temperatura','pH',…]\n",
    "    label_col,         # nombre de columna de etiquetas 'etiqueta_kmeans'\n",
    "    nombre_img_col     # nombre de columna con el nombre de la imagen 'imagen'\n",
    ")\n",
    "\n",
    "# División en train/val/test\n",
    "\n",
    "# 5) Llamada a la función de split:\n",
    "train_ds, val_ds, test_ds = split_dataset(full_ds, labels,\n",
    "                                          test_size=0.2, val_size=0.1)\n"
   ]
  },
  {
   "cell_type": "code",
   "execution_count": 12,
   "id": "da488ffc",
   "metadata": {},
   "outputs": [
    {
     "name": "stdout",
     "output_type": "stream",
     "text": [
      "Usando los siguientes hiperparámetros óptimos:\n",
      " - Learning rate : 0.008061\n",
      " - Batch size    : 24\n",
      " - Hidden dim    : 91\n"
     ]
    },
    {
     "name": "stderr",
     "output_type": "stream",
     "text": [
      "Reentrenamiento Final:   3%|▎         | 1/30 [03:50<1:51:28, 230.65s/it]"
     ]
    },
    {
     "name": "stdout",
     "output_type": "stream",
     "text": [
      "Epoch 01 — loss: 0.4163, val_acc: 0.9789 ✅\n"
     ]
    },
    {
     "name": "stderr",
     "output_type": "stream",
     "text": [
      "Reentrenamiento Final:   7%|▋         | 2/30 [04:22<53:03, 113.70s/it]  "
     ]
    },
    {
     "name": "stdout",
     "output_type": "stream",
     "text": [
      "Epoch 02 — loss: 0.0531, val_acc: 0.9908 ✅\n"
     ]
    },
    {
     "name": "stderr",
     "output_type": "stream",
     "text": [
      "Reentrenamiento Final:  10%|█         | 3/30 [04:55<34:39, 77.03s/it] "
     ]
    },
    {
     "name": "stdout",
     "output_type": "stream",
     "text": [
      "Epoch 03 — loss: 0.0582, val_acc: 0.9697 \n"
     ]
    },
    {
     "name": "stderr",
     "output_type": "stream",
     "text": [
      "Reentrenamiento Final:  13%|█▎        | 4/30 [05:28<25:43, 59.36s/it]"
     ]
    },
    {
     "name": "stdout",
     "output_type": "stream",
     "text": [
      "Epoch 04 — loss: 0.0481, val_acc: 0.9852 \n"
     ]
    },
    {
     "name": "stderr",
     "output_type": "stream",
     "text": [
      "Reentrenamiento Final:  17%|█▋        | 5/30 [06:00<20:41, 49.64s/it]"
     ]
    },
    {
     "name": "stdout",
     "output_type": "stream",
     "text": [
      "Epoch 05 — loss: 0.0383, val_acc: 0.9824 \n"
     ]
    },
    {
     "name": "stderr",
     "output_type": "stream",
     "text": [
      "Reentrenamiento Final:  20%|██        | 6/30 [06:33<17:31, 43.81s/it]"
     ]
    },
    {
     "name": "stdout",
     "output_type": "stream",
     "text": [
      "Epoch 06 — loss: 0.0426, val_acc: 0.9887 \n"
     ]
    },
    {
     "name": "stderr",
     "output_type": "stream",
     "text": [
      "Reentrenamiento Final:  23%|██▎       | 7/30 [07:06<15:30, 40.47s/it]"
     ]
    },
    {
     "name": "stdout",
     "output_type": "stream",
     "text": [
      "Epoch 07 — loss: 0.0285, val_acc: 0.9922 ✅\n"
     ]
    },
    {
     "name": "stderr",
     "output_type": "stream",
     "text": [
      "Reentrenamiento Final:  27%|██▋       | 8/30 [07:40<14:01, 38.25s/it]"
     ]
    },
    {
     "name": "stdout",
     "output_type": "stream",
     "text": [
      "Epoch 08 — loss: 0.0261, val_acc: 0.9951 ✅\n"
     ]
    },
    {
     "name": "stderr",
     "output_type": "stream",
     "text": [
      "Reentrenamiento Final:  30%|███       | 9/30 [08:13<12:49, 36.62s/it]"
     ]
    },
    {
     "name": "stdout",
     "output_type": "stream",
     "text": [
      "Epoch 09 — loss: 0.0284, val_acc: 0.9944 \n"
     ]
    },
    {
     "name": "stderr",
     "output_type": "stream",
     "text": [
      "Reentrenamiento Final:  33%|███▎      | 10/30 [08:45<11:48, 35.42s/it]"
     ]
    },
    {
     "name": "stdout",
     "output_type": "stream",
     "text": [
      "Epoch 10 — loss: 0.0235, val_acc: 0.9690 \n"
     ]
    },
    {
     "name": "stderr",
     "output_type": "stream",
     "text": [
      "Reentrenamiento Final:  37%|███▋      | 11/30 [09:19<10:59, 34.73s/it]"
     ]
    },
    {
     "name": "stdout",
     "output_type": "stream",
     "text": [
      "Epoch 11 — loss: 0.0239, val_acc: 0.9979 ✅\n"
     ]
    },
    {
     "name": "stderr",
     "output_type": "stream",
     "text": [
      "Reentrenamiento Final:  40%|████      | 12/30 [09:51<10:14, 34.15s/it]"
     ]
    },
    {
     "name": "stdout",
     "output_type": "stream",
     "text": [
      "Epoch 12 — loss: 0.0300, val_acc: 0.9930 \n"
     ]
    },
    {
     "name": "stderr",
     "output_type": "stream",
     "text": [
      "Reentrenamiento Final:  43%|████▎     | 13/30 [10:25<09:35, 33.86s/it]"
     ]
    },
    {
     "name": "stdout",
     "output_type": "stream",
     "text": [
      "Epoch 13 — loss: 0.0222, val_acc: 0.9930 \n"
     ]
    },
    {
     "name": "stderr",
     "output_type": "stream",
     "text": [
      "Reentrenamiento Final:  47%|████▋     | 14/30 [10:58<09:00, 33.76s/it]"
     ]
    },
    {
     "name": "stdout",
     "output_type": "stream",
     "text": [
      "Epoch 14 — loss: 0.0256, val_acc: 0.9986 ✅\n"
     ]
    },
    {
     "name": "stderr",
     "output_type": "stream",
     "text": [
      "Reentrenamiento Final:  50%|█████     | 15/30 [11:31<08:20, 33.35s/it]"
     ]
    },
    {
     "name": "stdout",
     "output_type": "stream",
     "text": [
      "Epoch 15 — loss: 0.0233, val_acc: 0.9972 \n"
     ]
    },
    {
     "name": "stderr",
     "output_type": "stream",
     "text": [
      "Reentrenamiento Final:  53%|█████▎    | 16/30 [12:03<07:42, 33.05s/it]"
     ]
    },
    {
     "name": "stdout",
     "output_type": "stream",
     "text": [
      "Epoch 16 — loss: 0.0209, val_acc: 0.9986 \n"
     ]
    },
    {
     "name": "stderr",
     "output_type": "stream",
     "text": [
      "Reentrenamiento Final:  57%|█████▋    | 17/30 [12:36<07:08, 32.96s/it]"
     ]
    },
    {
     "name": "stdout",
     "output_type": "stream",
     "text": [
      "Epoch 17 — loss: 0.0198, val_acc: 0.9937 \n"
     ]
    },
    {
     "name": "stderr",
     "output_type": "stream",
     "text": [
      "Reentrenamiento Final:  60%|██████    | 18/30 [13:09<06:36, 33.01s/it]"
     ]
    },
    {
     "name": "stdout",
     "output_type": "stream",
     "text": [
      "Epoch 18 — loss: 0.0226, val_acc: 0.9866 \n"
     ]
    },
    {
     "name": "stderr",
     "output_type": "stream",
     "text": [
      "Reentrenamiento Final:  63%|██████▎   | 19/30 [13:42<06:03, 33.04s/it]"
     ]
    },
    {
     "name": "stdout",
     "output_type": "stream",
     "text": [
      "Epoch 19 — loss: 0.0144, val_acc: 0.9922 \n"
     ]
    },
    {
     "name": "stderr",
     "output_type": "stream",
     "text": [
      "Reentrenamiento Final:  67%|██████▋   | 20/30 [14:14<05:28, 32.84s/it]"
     ]
    },
    {
     "name": "stdout",
     "output_type": "stream",
     "text": [
      "Epoch 20 — loss: 0.0146, val_acc: 0.9951 \n"
     ]
    },
    {
     "name": "stderr",
     "output_type": "stream",
     "text": [
      "Reentrenamiento Final:  70%|███████   | 21/30 [14:48<04:57, 33.08s/it]"
     ]
    },
    {
     "name": "stdout",
     "output_type": "stream",
     "text": [
      "Epoch 21 — loss: 0.0136, val_acc: 0.9965 \n"
     ]
    },
    {
     "name": "stderr",
     "output_type": "stream",
     "text": [
      "Reentrenamiento Final:  73%|███████▎  | 22/30 [15:18<04:18, 32.27s/it]"
     ]
    },
    {
     "name": "stdout",
     "output_type": "stream",
     "text": [
      "Epoch 22 — loss: 0.0134, val_acc: 0.9972 \n"
     ]
    },
    {
     "name": "stderr",
     "output_type": "stream",
     "text": [
      "Reentrenamiento Final:  77%|███████▋  | 23/30 [15:47<03:37, 31.11s/it]"
     ]
    },
    {
     "name": "stdout",
     "output_type": "stream",
     "text": [
      "Epoch 23 — loss: 0.0101, val_acc: 0.9993 ✅\n"
     ]
    },
    {
     "name": "stderr",
     "output_type": "stream",
     "text": [
      "Reentrenamiento Final:  80%|████████  | 24/30 [16:14<03:00, 30.10s/it]"
     ]
    },
    {
     "name": "stdout",
     "output_type": "stream",
     "text": [
      "Epoch 24 — loss: 0.0096, val_acc: 0.9930 \n"
     ]
    },
    {
     "name": "stderr",
     "output_type": "stream",
     "text": [
      "Reentrenamiento Final:  83%|████████▎ | 25/30 [16:42<02:26, 29.32s/it]"
     ]
    },
    {
     "name": "stdout",
     "output_type": "stream",
     "text": [
      "Epoch 25 — loss: 0.0105, val_acc: 0.9937 \n"
     ]
    },
    {
     "name": "stderr",
     "output_type": "stream",
     "text": [
      "Reentrenamiento Final:  87%|████████▋ | 26/30 [17:09<01:54, 28.68s/it]"
     ]
    },
    {
     "name": "stdout",
     "output_type": "stream",
     "text": [
      "Epoch 26 — loss: 0.0089, val_acc: 0.9993 \n"
     ]
    },
    {
     "name": "stderr",
     "output_type": "stream",
     "text": [
      "Reentrenamiento Final:  90%|█████████ | 27/30 [17:36<01:24, 28.21s/it]"
     ]
    },
    {
     "name": "stdout",
     "output_type": "stream",
     "text": [
      "Epoch 27 — loss: 0.0095, val_acc: 0.9937 \n"
     ]
    },
    {
     "name": "stderr",
     "output_type": "stream",
     "text": [
      "Reentrenamiento Final:  93%|█████████▎| 28/30 [18:03<00:55, 27.75s/it]"
     ]
    },
    {
     "name": "stdout",
     "output_type": "stream",
     "text": [
      "Epoch 28 — loss: 0.0080, val_acc: 0.9993 \n"
     ]
    },
    {
     "name": "stderr",
     "output_type": "stream",
     "text": [
      "Reentrenamiento Final:  97%|█████████▋| 29/30 [18:30<00:27, 27.52s/it]"
     ]
    },
    {
     "name": "stdout",
     "output_type": "stream",
     "text": [
      "Epoch 29 — loss: 0.0073, val_acc: 0.9986 \n"
     ]
    },
    {
     "name": "stderr",
     "output_type": "stream",
     "text": [
      "Reentrenamiento Final: 100%|██████████| 30/30 [18:57<00:00, 37.92s/it]"
     ]
    },
    {
     "name": "stdout",
     "output_type": "stream",
     "text": [
      "Epoch 30 — loss: 0.0075, val_acc: 0.9922 \n"
     ]
    },
    {
     "name": "stderr",
     "output_type": "stream",
     "text": [
      "\n"
     ]
    }
   ],
   "source": [
    "# Preparar hiperparámetros óptimos\n",
    "\n",
    "# 1) Valores hallados por el GA\n",
    "\n",
    "best_lr = float(best[0])\n",
    "best_bs = int(best[1])\n",
    "best_hd = int(best[2])\n",
    "\n",
    "print(f\"Usando los siguientes hiperparámetros óptimos:\")\n",
    "print(f\" - Learning rate : {best_lr:.6f}\")\n",
    "print(f\" - Batch size    : {best_bs}\")\n",
    "print(f\" - Hidden dim    : {best_hd}\")\n",
    "\n",
    "# 2) Preparar DataLoaders\n",
    "device = torch.device(\"cuda\" if torch.cuda.is_available() else \"cpu\")\n",
    "train_loader = DataLoader(train_ds, \n",
    "                          batch_size=best_bs, \n",
    "                          shuffle=True, \n",
    "                          pin_memory=(device.type==\"cuda\"))\n",
    "val_loader   = DataLoader(val_ds,\n",
    "                          batch_size=best_bs, \n",
    "                          shuffle=False, \n",
    "                          pin_memory=(device.type==\"cuda\"))\n",
    "test_loader  = DataLoader(test_ds,  \n",
    "                          batch_size=best_bs, \n",
    "                          shuffle=False, \n",
    "                          pin_memory=(device.type==\"cuda\"))\n",
    "\n",
    "# 3) Instanciar modelo, optimizador y scheduler\n",
    "model = MLPMultimodal(img_size=(224,224),\n",
    "                      sensor_dim=len(sensor_cols),\n",
    "                      hidden_dim=best_hd,\n",
    "                      n_classes=len(pd.read_csv(label_csv)[label_col].unique())\n",
    "                     ).to(device)\n",
    "opt      = optim.Adam(model.parameters(), lr=best_lr)\n",
    "loss_fn  = nn.CrossEntropyLoss()\n",
    "sched    = optim.lr_scheduler.ReduceLROnPlateau(opt, \n",
    "                                                mode='max', \n",
    "                                                factor=0.5, \n",
    "                                                patience=3)\n",
    "\n",
    "# Reentrenamiento final y recolección de métricas\n",
    "# 4) Listas para almacenar métricas\n",
    "train_losses = []\n",
    "val_accs     = []\n",
    "\n",
    "# Inicializamos variable para control del mejor accuracy\n",
    "best_acc = 0.0\n",
    "\n",
    "# 5) Reentrenamiento con tqdm y recolección de métricas\n",
    "for epoch in trange(30, desc=\"Reentrenamiento Final\"):\n",
    "    # Entrenamiento\n",
    "    model.train()\n",
    "    running_loss = 0.0\n",
    "    for imgs, sens, ys in tqdm(train_loader, leave=False, desc=\" Train batches\"):\n",
    "        imgs, sens, ys = imgs.to(device, non_blocking=True), \\\n",
    "                         sens.to(device, non_blocking=True), \\\n",
    "                         ys.to(device, non_blocking=True)\n",
    "        opt.zero_grad()\n",
    "        out = model(imgs, sens)\n",
    "        loss = loss_fn(out, ys)\n",
    "        loss.backward()\n",
    "        opt.step()\n",
    "        running_loss += loss.item()\n",
    "    avg_loss = running_loss / len(train_loader)\n",
    "    train_losses.append(avg_loss)\n",
    "\n",
    "    # Validación\n",
    "    model.eval()\n",
    "    preds, trues = [], []\n",
    "    with torch.no_grad():\n",
    "        for imgs, sens, ys in tqdm(val_loader, leave=False, desc=\" Val batches\"):\n",
    "            imgs, sens = imgs.to(device, non_blocking=True), \\\n",
    "                                 sens.to(device, non_blocking=True)\n",
    "            out = model(imgs, sens).argmax(dim=1).cpu().numpy()\n",
    "            preds.extend(out)\n",
    "            trues.extend(ys.numpy())\n",
    "    val_acc = accuracy_score(trues, preds)\n",
    "    val_accs.append(val_acc)\n",
    "\n",
    "    # Scheduler y marcado de mejor época\n",
    "    sched.step(val_acc)\n",
    "\n",
    "    # — Aquí guardamos el mejor modelo —\n",
    "    if val_acc > best_acc:\n",
    "        best_acc = val_acc\n",
    "        torch.save(\n",
    "            model.state_dict(),\n",
    "            \"modelos/best_model_final.pt\"\n",
    "        )\n",
    "        flag = \"✅\"  # marca en el print\n",
    "    else:\n",
    "        flag = \"\"\n",
    "\n",
    "    print(f\"Epoch {epoch+1:02d} — loss: {avg_loss:.4f}, val_acc: {val_acc:.4f} {flag}\")\n"
   ]
  },
  {
   "cell_type": "code",
   "execution_count": 13,
   "id": "c1f8c3aa",
   "metadata": {},
   "outputs": [
    {
     "data": {
      "image/png": "[encoded data removed]",
      "text/plain": [
       "<Figure size 640x480 with 1 Axes>"
      ]
     },
     "metadata": {},
     "output_type": "display_data"
    }
   ],
   "source": [
    "# 6) Gráfica de Training Loss\n",
    "plt.figure()\n",
    "plt.plot(train_losses)\n",
    "plt.title(\"Training Loss por Época\")\n",
    "plt.xlabel(\"Época\")\n",
    "plt.ylabel(\"Loss\")\n",
    "plt.show()"
   ]
  },
  {
   "cell_type": "code",
   "execution_count": 14,
   "id": "a48286f0",
   "metadata": {},
   "outputs": [
    {
     "data": {
      "image/png": "[encoded data removed]",
      "text/plain": [
       "<Figure size 640x480 with 1 Axes>"
      ]
     },
     "metadata": {},
     "output_type": "display_data"
    }
   ],
   "source": [
    "# 7) Gráfica de Validation Accuracy\n",
    "plt.figure()\n",
    "plt.plot(val_accs)\n",
    "plt.title(\"Validation Accuracy por Época\")\n",
    "plt.xlabel(\"Época\")\n",
    "plt.ylabel(\"Accuracy\")\n",
    "plt.show()"
   ]
  },
  {
   "cell_type": "code",
   "execution_count": 15,
   "id": "6b4442b6",
   "metadata": {},
   "outputs": [
    {
     "name": "stdout",
     "output_type": "stream",
     "text": [
      "--- Parámetros extraídos del checkpoint ---\n",
      "hidden_dim  = 91\n",
      "sensor_dim  = 5\n",
      "feat_dim    = 100352\n",
      "n_classes   = 3\n",
      "\n",
      "Usando batch_size = 24 para evaluación final\n",
      "\n"
     ]
    },
    {
     "name": "stderr",
     "output_type": "stream",
     "text": [
      "Evaluación Test: 100%|██████████| 119/119 [00:59<00:00,  2.00it/s]"
     ]
    },
    {
     "name": "stdout",
     "output_type": "stream",
     "text": [
      "\n",
      "--- Métricas en Test Set ---\n",
      "Accuracy : 0.9993\n",
      "Precision: 0.9993\n",
      "Recall   : 0.9993\n",
      "F1-score : 0.9993\n",
      "\n",
      "Matriz de Confusión:\n",
      " [[1154    0    0]\n",
      " [   0  632    0]\n",
      " [   0    2 1049]]\n",
      "\n",
      "Reporte de Clasificación:\n",
      "               precision    recall  f1-score   support\n",
      "\n",
      "           0       1.00      1.00      1.00      1154\n",
      "           1       1.00      1.00      1.00       632\n",
      "           2       1.00      1.00      1.00      1051\n",
      "\n",
      "    accuracy                           1.00      2837\n",
      "   macro avg       1.00      1.00      1.00      2837\n",
      "weighted avg       1.00      1.00      1.00      2837\n",
      "\n"
     ]
    },
    {
     "name": "stderr",
     "output_type": "stream",
     "text": [
      "\n"
     ]
    }
   ],
   "source": [
    "# Evaluación final\n",
    "\n",
    "# 1. Carga el checkpoint\n",
    "checkpoint = torch.load(\"modelos/best_model_final.pt\", map_location=\"cpu\")\n",
    "\n",
    "# 2. Extrae de él los parámetros de arquitectura\n",
    "#   - hidden_dim = filas de mlp.0.weight\n",
    "#   - sensor_dim = columnas de mlp.0.weight\n",
    "#   - feat_plus_hd = columnas de classifier.0.weight  (feat_dim + hidden_dim)\n",
    "#   - n_classes = filas de classifier.2.weight\n",
    "\n",
    "hidden_dim    = checkpoint['mlp.0.weight'].shape[0]\n",
    "sensor_dim    = checkpoint['mlp.0.weight'].shape[1]\n",
    "feat_plus_hd  = checkpoint['classifier.0.weight'].shape[1]\n",
    "n_classes     = checkpoint['classifier.2.weight'].shape[0]\n",
    "feat_dim      = feat_plus_hd - hidden_dim\n",
    "\n",
    "print(\"--- Parámetros extraídos del checkpoint ---\")\n",
    "print(f\"hidden_dim  = {hidden_dim}\")\n",
    "print(f\"sensor_dim  = {sensor_dim}\")\n",
    "print(f\"feat_dim    = {feat_dim}\")\n",
    "print(f\"n_classes   = {n_classes}\\n\")\n",
    "\n",
    "# 3. Instancia del modelo en el dispositivo correcto\n",
    "device = torch.device(\"cuda\" if torch.cuda.is_available() else \"cpu\")\n",
    "model = MLPMultimodal(\n",
    "    img_size=(224,224),      # asumiendo tu imagen de 224×224\n",
    "    sensor_dim=sensor_dim,\n",
    "    hidden_dim=hidden_dim,\n",
    "    n_classes=n_classes\n",
    ").to(device)\n",
    "\n",
    "# 4. Carga de pesos y modo evaluación\n",
    "model.load_state_dict(checkpoint)\n",
    "model.eval()\n",
    "\n",
    "# 5. Preparación del DataLoader de test\n",
    "batch_size = int(checkpoint.get('batch_size',  best_bs if 'best_bs' in globals() else 32))\n",
    "print(f\"Usando batch_size = {batch_size} para evaluación final\\n\")\n",
    "test_loader = DataLoader(\n",
    "    test_ds,\n",
    "    batch_size=batch_size,\n",
    "    shuffle=False,\n",
    "    pin_memory=(device.type==\"cuda\")\n",
    ")\n",
    "\n",
    "# 6. Bucle de inferencia en el test set\n",
    "y_true, y_pred = [], []\n",
    "with torch.no_grad():\n",
    "    for imgs, sens, ys in tqdm(test_loader, desc=\"Evaluación Test\"):\n",
    "        imgs = imgs.to(device,   non_blocking=True)\n",
    "        sens = sens.to(device,   non_blocking=True)\n",
    "        out  = model(imgs, sens).argmax(dim=1).cpu().numpy()\n",
    "        y_pred.extend(out)\n",
    "        y_true.extend(ys.numpy())\n",
    "\n",
    "# 7. Cálculo e impresión de métricas\n",
    "acc   = accuracy_score(y_true, y_pred)\n",
    "prec, rec, f1, _ = precision_recall_fscore_support(y_true, y_pred, average='weighted')\n",
    "cm    = confusion_matrix(y_true, y_pred)\n",
    "report = classification_report(y_true, y_pred)\n",
    "\n",
    "print(\"\\n--- Métricas en Test Set ---\")\n",
    "print(f\"Accuracy : {acc:.4f}\")\n",
    "print(f\"Precision: {prec:.4f}\")\n",
    "print(f\"Recall   : {rec:.4f}\")\n",
    "print(f\"F1-score : {f1:.4f}\")\n",
    "print(\"\\nMatriz de Confusión:\\n\", cm)\n",
    "print(\"\\nReporte de Clasificación:\\n\", report)\n"
   ]
  },
  {
   "cell_type": "code",
   "execution_count": 16,
   "id": "f8647989",
   "metadata": {},
   "outputs": [
    {
     "data": {
      "image/png": "[encoded data removed]",
      "text/plain": [
       "<Figure size 600x600 with 2 Axes>"
      ]
     },
     "metadata": {},
     "output_type": "display_data"
    }
   ],
   "source": [
    "# == MATRIZ DE CONFUSIÓN ==\n",
    "\n",
    "# Obtener nombres de clase\n",
    "\n",
    "class_names = test_ds.dataset.classes  # ['enfermo', 'estres_leve', 'saludable']\n",
    "\n",
    "# 1) Calcular la matriz de confusión\n",
    "cm = confusion_matrix(y_true, y_pred, labels=range(len(class_names)))\n",
    "\n",
    "# 2) Crear la figura y el mapa de calor\n",
    "fig, ax = plt.subplots(figsize=(6, 6))\n",
    "im = ax.imshow(cm, interpolation='nearest', aspect='auto')\n",
    "\n",
    "# 3) Añadir la barra de color\n",
    "cbar = ax.figure.colorbar(im, ax=ax)\n",
    "cbar.ax.set_ylabel(\"Número de muestras\", rotation=-90, va=\"bottom\")\n",
    "\n",
    "# 4) Etiquetas de los ejes\n",
    "ax.set(\n",
    "    xticks=np.arange(len(class_names)),\n",
    "    yticks=np.arange(len(class_names)),\n",
    "    xticklabels=class_names,\n",
    "    yticklabels=class_names,\n",
    "    title=\"Matriz de Confusión\",\n",
    "    xlabel=\"Etiqueta Predicha\",\n",
    "    ylabel=\"Etiqueta Verdadera\"\n",
    ")\n",
    "\n",
    "# 5) Rotar etiquetas x 45 grados para evitar superposición\n",
    "plt.setp(ax.get_xticklabels(), rotation=45, ha=\"right\", rotation_mode=\"anchor\")\n",
    "\n",
    "# 6) Anotar cada celda con el valor\n",
    "fmt = 'd'\n",
    "thresh = cm.max() / 2\n",
    "for i in range(cm.shape[0]):\n",
    "    for j in range(cm.shape[1]):\n",
    "        ax.text(\n",
    "            j, i, format(cm[i, j], fmt),\n",
    "            ha=\"center\", va=\"center\",\n",
    "            color=\"white\" if cm[i, j] > thresh else \"black\"\n",
    "        )\n",
    "\n",
    "# 7) Ajuste final y muestra\n",
    "fig.tight_layout()\n",
    "plt.show()"
   ]
  }
 ],
 "metadata": {
  "kernelspec": {
   "display_name": ".venv",
   "language": "python",
   "name": "python3"
  },
  "language_info": {
   "codemirror_mode": {
    "name": "ipython",
    "version": 3
   },
   "file_extension": ".py",
   "mimetype": "text/x-python",
   "name": "python",
   "nbconvert_exporter": "python",
   "pygments_lexer": "ipython3",
   "version": "3.12.6"
  }
 },
 "nbformat": 4,
 "nbformat_minor": 5
}
