{
 "cells": [
  {
   "cell_type": "code",
   "execution_count": 1,
   "id": "7c0713d8",
   "metadata": {},
   "outputs": [],
   "source": [
    "import sys\n",
    "import os\n",
    "# Agrega la raíz del proyecto al path\n",
    "project_root = os.path.abspath(os.path.join(os.getcwd(), \"..\"))\n",
    "if project_root not in sys.path:\n",
    "    sys.path.insert(0, project_root)"
   ]
  },
  {
   "cell_type": "code",
   "execution_count": null,
   "id": "7ecb6ee1",
   "metadata": {},
   "outputs": [],
   "source": [
    "# Entrenamiento Multimodal\n",
    "# 0) Imports y configuración\n",
    "import os\n",
    "import warnings\n",
    "import gc\n",
    "import torch\n",
    "import torch.nn as nn\n",
    "import torch.optim as optim\n",
    "from torch.utils.data import DataLoader, WeightedRandomSampler\n",
    "from torchvision import transforms, models\n",
    "from torchvision.models import ResNet18_Weights\n",
    "from torch.cuda.amp import autocast, GradScaler\n",
    "from PIL import Image\n",
    "import pandas as pd\n",
    "import matplotlib.pyplot as plt\n",
    "from sklearn.model_selection import train_test_split\n",
    "from sklearn.metrics import classification_report, confusion_matrix, ConfusionMatrixDisplay\n",
    "from tqdm.notebook import tqdm\n",
    "\n",
    "# Importación librerías personalizadas\n",
    "\n",
    "from scripts.dataset_miltimodal import FishDataset\n",
    "from scripts.modelo_multimodal import MultiModalNet"
   ]
  },
  {
   "cell_type": "code",
   "execution_count": 3,
   "id": "21d8df97",
   "metadata": {},
   "outputs": [
    {
     "name": "stdout",
     "output_type": "stream",
     "text": [
      "Usando 14184/14185 imágenes preprocesadas disponibles\n"
     ]
    }
   ],
   "source": [
    "# 1) Suprimir warnings\n",
    "warnings.filterwarnings(\"ignore\", category=UserWarning)\n",
    "warnings.filterwarnings(\"ignore\", category=FutureWarning)\n",
    "\n",
    "# 2) Leer CSV normalizado y filtrar imágnes existentes (sin print)\n",
    "label_csv    = \"../data/labels2_kmeans_limpio.csv\"\n",
    "preproc_dir  = \"../data/images_preproc\"\n",
    "df_all       = pd.read_csv(label_csv)\n",
    "\n",
    "# Quedarnos sólo con las filas cuyo archivo preproc existe\n",
    "# Nos quedamos sólo con las filas cuyo archivo existe en su carpeta de clase\n",
    "mask_exists = df_all.apply(\n",
    "    lambda r: os.path.isfile(os.path.join(preproc_dir, str(r['etiqueta_kmeans']), r['imagen'])),\n",
    "    axis=1\n",
    ")\n",
    "df = df_all[mask_exists].reset_index(drop=True)\n",
    "print(f\"Usando {len(df)}/{len(df_all)} imágenes preprocesadas disponibles\")"
   ]
  },
  {
   "cell_type": "code",
   "execution_count": 5,
   "id": "3c1024de",
   "metadata": {},
   "outputs": [],
   "source": [
    "# 3) Parte en train/validation split estratificado\n",
    "train_df, val_df = train_test_split(\n",
    "    df, \n",
    "    test_size=0.2,\n",
    "    stratify=df['etiqueta_kmeans'],\n",
    "    random_state=42\n",
    ")"
   ]
  },
  {
   "cell_type": "code",
   "execution_count": 6,
   "id": "b6d2da02",
   "metadata": {},
   "outputs": [
    {
     "name": "stdout",
     "output_type": "stream",
     "text": [
      "Descartadas 0 filas sin datos numéricos en sensores; quedan 14184 filas\n"
     ]
    }
   ],
   "source": [
    "# Seleccionamos las columnas\n",
    "sensor_cols = ['temperatura','pH','conductividad','TDS','DO_mgL']\n",
    "\n",
    "# Forzamos todos los valores a float, los no convertibles pasan a NaN\n",
    "df[sensor_cols] = df[sensor_cols].apply(pd.to_numeric, errors='coerce')\n",
    "\n",
    "# Eliminamos cualquier fila que tenga NaN en *cualquiera* de las columnas de sensores\n",
    "n0 = len(df)\n",
    "df = df.dropna(subset=sensor_cols).reset_index(drop=True)\n",
    "n1 = len(df)\n",
    "print(f\"Descartadas {n0-n1} filas sin datos numéricos en sensores; quedan {n1} filas\")\n"
   ]
  },
  {
   "cell_type": "code",
   "execution_count": null,
   "id": "a4f8d94b",
   "metadata": {},
   "outputs": [],
   "source": [
    "# Mapas de clases e índices\n",
    "counts = train_df['etiqueta_kmeans'].value_counts()\n",
    "total  = len(train_df)\n",
    "sample_weights = train_df['etiqueta_kmeans'].map(lambda x: total/counts[x]).values\n",
    "sampler = WeightedRandomSampler(sample_weights, \n",
    "                                num_samples=total, \n",
    "                                replacement=True)"
   ]
  },
  {
   "cell_type": "code",
   "execution_count": null,
   "id": "e6a17133",
   "metadata": {},
   "outputs": [],
   "source": [
    "# Transforms y DataLoader\n",
    "transform = transforms.Compose([\n",
    "    transforms.RandomHorizontalFlip(),\n",
    "    transforms.RandomRotation(10),\n",
    "    transforms.ToTensor(),\n",
    "    transforms.Normalize([0.5]*3, [0.5]*3)\n",
    "])\n",
    "\n",
    "train_ds = FishDataset(train_df, preproc_dir, sensor_cols, transform)\n",
    "val_ds   = FishDataset(val_df, preproc_dir, sensor_cols, transform)\n",
    "\n",
    "batch_size = 16\n",
    "\n",
    "# Ponemos num_wonkers=0 para desactivar multiprocesamiento\n",
    "train_loader = DataLoader(\n",
    "    train_ds, \n",
    "    batch_size=batch_size, \n",
    "    sampler=sampler, \n",
    "    num_workers=0,\n",
    "    pin_memory=False\n",
    ")\n",
    "val_loader = DataLoader(\n",
    "    val_ds, \n",
    "    batch_size=batch_size, \n",
    "    shuffle=False, \n",
    "    num_workers=0,\n",
    "    pin_memory=False\n",
    ")"
   ]
  },
  {
   "cell_type": "code",
   "execution_count": null,
   "id": "e5934e90",
   "metadata": {},
   "outputs": [],
   "source": [
    "# 7) Definir modelo multimodal (ResNet18 + MLP)\n",
    "\n",
    "device = torch.device('cuda' if torch.cuda.is_available() else 'cpu')\n",
    "model = MultiModalNet(sensor_dim=len(sensor_cols), n_classes=3).to(device)\n",
    "\n",
    "# 8) Loss y optimizer\n",
    "class_weights = torch.tensor([total/counts[c] for c in ['enfermo','estres_leve','saludable']],\n",
    "                             dtype=torch.float32, device=device)\n",
    "criterion = nn.CrossEntropyLoss(weight=class_weights)\n",
    "optimizer = optim.Adam(model.parameters(), lr=1e-4)"
   ]
  },
  {
   "cell_type": "code",
   "execution_count": 10,
   "id": "efe69b45",
   "metadata": {},
   "outputs": [
    {
     "data": {
      "application/vnd.jupyter.widget-view+json": {
       "model_id": "0463d128b3fa448bbb9a2cb0f740001b",
       "version_major": 2,
       "version_minor": 0
      },
      "text/plain": [
       "Epoch 1/10 [Train]:   0%|          | 0/710 [00:00<?, ?it/s]"
      ]
     },
     "metadata": {},
     "output_type": "display_data"
    },
    {
     "data": {
      "application/vnd.jupyter.widget-view+json": {
       "model_id": "8776ea30f64849148d2ff3b1066e9af9",
       "version_major": 2,
       "version_minor": 0
      },
      "text/plain": [
       "Epoch 1/10 [ Val ]:   0%|          | 0/178 [00:00<?, ?it/s]"
      ]
     },
     "metadata": {},
     "output_type": "display_data"
    },
    {
     "name": "stdout",
     "output_type": "stream",
     "text": [
      "→ Guardado nuevo mejor modelo (val_loss=0.1800)\n",
      "Epoch 1/10 | Train Loss: 0.2772, Acc: 0.886 |  Val Loss: 0.1800, Acc: 0.926\n"
     ]
    },
    {
     "data": {
      "application/vnd.jupyter.widget-view+json": {
       "model_id": "70f9ec2a7712428883e57c247170c474",
       "version_major": 2,
       "version_minor": 0
      },
      "text/plain": [
       "Epoch 2/10 [Train]:   0%|          | 0/710 [00:00<?, ?it/s]"
      ]
     },
     "metadata": {},
     "output_type": "display_data"
    },
    {
     "data": {
      "application/vnd.jupyter.widget-view+json": {
       "model_id": "5054d40854624be6838d99f6fdb7a4ad",
       "version_major": 2,
       "version_minor": 0
      },
      "text/plain": [
       "Epoch 2/10 [ Val ]:   0%|          | 0/178 [00:00<?, ?it/s]"
      ]
     },
     "metadata": {},
     "output_type": "display_data"
    },
    {
     "name": "stdout",
     "output_type": "stream",
     "text": [
      "→ Guardado nuevo mejor modelo (val_loss=0.1450)\n",
      "Epoch 2/10 | Train Loss: 0.1439, Acc: 0.942 |  Val Loss: 0.1450, Acc: 0.943\n"
     ]
    },
    {
     "data": {
      "application/vnd.jupyter.widget-view+json": {
       "model_id": "563414f181b04699b59c93cf1247e8ed",
       "version_major": 2,
       "version_minor": 0
      },
      "text/plain": [
       "Epoch 3/10 [Train]:   0%|          | 0/710 [00:00<?, ?it/s]"
      ]
     },
     "metadata": {},
     "output_type": "display_data"
    },
    {
     "data": {
      "application/vnd.jupyter.widget-view+json": {
       "model_id": "af920b2417ee4b3ba03db5b5ccb02f42",
       "version_major": 2,
       "version_minor": 0
      },
      "text/plain": [
       "Epoch 3/10 [ Val ]:   0%|          | 0/178 [00:00<?, ?it/s]"
      ]
     },
     "metadata": {},
     "output_type": "display_data"
    },
    {
     "name": "stdout",
     "output_type": "stream",
     "text": [
      "→ Guardado nuevo mejor modelo (val_loss=0.1208)\n",
      "Epoch 3/10 | Train Loss: 0.1094, Acc: 0.957 |  Val Loss: 0.1208, Acc: 0.956\n"
     ]
    },
    {
     "data": {
      "application/vnd.jupyter.widget-view+json": {
       "model_id": "57f2b7dc35694f8381e06f2a483dd07d",
       "version_major": 2,
       "version_minor": 0
      },
      "text/plain": [
       "Epoch 4/10 [Train]:   0%|          | 0/710 [00:00<?, ?it/s]"
      ]
     },
     "metadata": {},
     "output_type": "display_data"
    },
    {
     "data": {
      "application/vnd.jupyter.widget-view+json": {
       "model_id": "c9ddb1c58b9c4a7cba47585bc9f580a7",
       "version_major": 2,
       "version_minor": 0
      },
      "text/plain": [
       "Epoch 4/10 [ Val ]:   0%|          | 0/178 [00:00<?, ?it/s]"
      ]
     },
     "metadata": {},
     "output_type": "display_data"
    },
    {
     "name": "stdout",
     "output_type": "stream",
     "text": [
      "→ Guardado nuevo mejor modelo (val_loss=0.0965)\n",
      "Epoch 4/10 | Train Loss: 0.0858, Acc: 0.966 |  Val Loss: 0.0965, Acc: 0.965\n"
     ]
    },
    {
     "data": {
      "application/vnd.jupyter.widget-view+json": {
       "model_id": "327202fc89584030b33e77fc7b69b2df",
       "version_major": 2,
       "version_minor": 0
      },
      "text/plain": [
       "Epoch 5/10 [Train]:   0%|          | 0/710 [00:00<?, ?it/s]"
      ]
     },
     "metadata": {},
     "output_type": "display_data"
    },
    {
     "data": {
      "application/vnd.jupyter.widget-view+json": {
       "model_id": "f60b34547f4a43c2b96cead4bded35fe",
       "version_major": 2,
       "version_minor": 0
      },
      "text/plain": [
       "Epoch 5/10 [ Val ]:   0%|          | 0/178 [00:00<?, ?it/s]"
      ]
     },
     "metadata": {},
     "output_type": "display_data"
    },
    {
     "name": "stdout",
     "output_type": "stream",
     "text": [
      "→ Guardado nuevo mejor modelo (val_loss=0.0884)\n",
      "Epoch 5/10 | Train Loss: 0.0742, Acc: 0.971 |  Val Loss: 0.0884, Acc: 0.965\n"
     ]
    },
    {
     "data": {
      "application/vnd.jupyter.widget-view+json": {
       "model_id": "f8f10eeaf5744637ab7ca12b44fe579d",
       "version_major": 2,
       "version_minor": 0
      },
      "text/plain": [
       "Epoch 6/10 [Train]:   0%|          | 0/710 [00:00<?, ?it/s]"
      ]
     },
     "metadata": {},
     "output_type": "display_data"
    },
    {
     "data": {
      "application/vnd.jupyter.widget-view+json": {
       "model_id": "65f12da748614cc49f1a95d8262ff431",
       "version_major": 2,
       "version_minor": 0
      },
      "text/plain": [
       "Epoch 6/10 [ Val ]:   0%|          | 0/178 [00:00<?, ?it/s]"
      ]
     },
     "metadata": {},
     "output_type": "display_data"
    },
    {
     "name": "stdout",
     "output_type": "stream",
     "text": [
      "Epoch 6/10 | Train Loss: 0.0637, Acc: 0.976 |  Val Loss: 0.1086, Acc: 0.964\n"
     ]
    },
    {
     "data": {
      "application/vnd.jupyter.widget-view+json": {
       "model_id": "24dc07eeb0314ad6a20ebb8ea46ece83",
       "version_major": 2,
       "version_minor": 0
      },
      "text/plain": [
       "Epoch 7/10 [Train]:   0%|          | 0/710 [00:00<?, ?it/s]"
      ]
     },
     "metadata": {},
     "output_type": "display_data"
    },
    {
     "data": {
      "application/vnd.jupyter.widget-view+json": {
       "model_id": "9b673b636c0641ab84e7276b7b0c672e",
       "version_major": 2,
       "version_minor": 0
      },
      "text/plain": [
       "Epoch 7/10 [ Val ]:   0%|          | 0/178 [00:00<?, ?it/s]"
      ]
     },
     "metadata": {},
     "output_type": "display_data"
    },
    {
     "name": "stdout",
     "output_type": "stream",
     "text": [
      "Epoch 7/10 | Train Loss: 0.0561, Acc: 0.978 |  Val Loss: 0.0992, Acc: 0.962\n"
     ]
    },
    {
     "data": {
      "application/vnd.jupyter.widget-view+json": {
       "model_id": "6ce3a2341c4f4b798de9a07630edd283",
       "version_major": 2,
       "version_minor": 0
      },
      "text/plain": [
       "Epoch 8/10 [Train]:   0%|          | 0/710 [00:00<?, ?it/s]"
      ]
     },
     "metadata": {},
     "output_type": "display_data"
    },
    {
     "data": {
      "application/vnd.jupyter.widget-view+json": {
       "model_id": "a01de5b61f9f48e29eda967a92ecddcd",
       "version_major": 2,
       "version_minor": 0
      },
      "text/plain": [
       "Epoch 8/10 [ Val ]:   0%|          | 0/178 [00:00<?, ?it/s]"
      ]
     },
     "metadata": {},
     "output_type": "display_data"
    },
    {
     "name": "stdout",
     "output_type": "stream",
     "text": [
      "→ Guardado nuevo mejor modelo (val_loss=0.0790)\n",
      "Epoch 8/10 | Train Loss: 0.0493, Acc: 0.981 |  Val Loss: 0.0790, Acc: 0.972\n"
     ]
    },
    {
     "data": {
      "application/vnd.jupyter.widget-view+json": {
       "model_id": "70794713970e4b54b343a01b1c85e27a",
       "version_major": 2,
       "version_minor": 0
      },
      "text/plain": [
       "Epoch 9/10 [Train]:   0%|          | 0/710 [00:00<?, ?it/s]"
      ]
     },
     "metadata": {},
     "output_type": "display_data"
    },
    {
     "data": {
      "application/vnd.jupyter.widget-view+json": {
       "model_id": "a19bf8338bff434993fffb7f07acae0e",
       "version_major": 2,
       "version_minor": 0
      },
      "text/plain": [
       "Epoch 9/10 [ Val ]:   0%|          | 0/178 [00:00<?, ?it/s]"
      ]
     },
     "metadata": {},
     "output_type": "display_data"
    },
    {
     "name": "stdout",
     "output_type": "stream",
     "text": [
      "Epoch 9/10 | Train Loss: 0.0416, Acc: 0.987 |  Val Loss: 0.0847, Acc: 0.971\n"
     ]
    },
    {
     "data": {
      "application/vnd.jupyter.widget-view+json": {
       "model_id": "da39e88c1b1c48f2a5bca9bb7011237d",
       "version_major": 2,
       "version_minor": 0
      },
      "text/plain": [
       "Epoch 10/10 [Train]:   0%|          | 0/710 [00:00<?, ?it/s]"
      ]
     },
     "metadata": {},
     "output_type": "display_data"
    },
    {
     "data": {
      "application/vnd.jupyter.widget-view+json": {
       "model_id": "07b073e6c6d3485090bc5fe4fd4d180e",
       "version_major": 2,
       "version_minor": 0
      },
      "text/plain": [
       "Epoch 10/10 [ Val ]:   0%|          | 0/178 [00:00<?, ?it/s]"
      ]
     },
     "metadata": {},
     "output_type": "display_data"
    },
    {
     "name": "stdout",
     "output_type": "stream",
     "text": [
      "→ Guardado nuevo mejor modelo (val_loss=0.0781)\n",
      "Epoch 10/10 | Train Loss: 0.0334, Acc: 0.989 |  Val Loss: 0.0781, Acc: 0.967\n"
     ]
    }
   ],
   "source": [
    "# 9) Entrenamiento con tqdm y AMP\n",
    "\n",
    "best_val_loss = float('inf')\n",
    "\n",
    "scaler = GradScaler()\n",
    "num_epochs = 10\n",
    "train_losses, val_losses, train_accs, val_accs = [], [], [], []\n",
    "\n",
    "for epoch in range(1, num_epochs+1):\n",
    "    # Entrenamiento\n",
    "    model.train()\n",
    "    rloss, corr, total = 0.0, 0, 0\n",
    "    train_iter = tqdm(train_loader, desc=f\"Epoch {epoch}/{num_epochs} [Train]\", leave=False)\n",
    "    for imgs, sens, labs in train_iter:\n",
    "        imgs, sens, labs = imgs.to(device), sens.to(device), labs.to(device)\n",
    "        optimizer.zero_grad()\n",
    "        with autocast():\n",
    "            outputs = model(imgs, sens)\n",
    "            loss = criterion(outputs, labs)\n",
    "        scaler.scale(loss).backward()\n",
    "        scaler.step(optimizer)\n",
    "        scaler.update()\n",
    "\n",
    "        rloss += loss.item()*labs.size(0)\n",
    "        preds = outputs.argmax(1)\n",
    "        corr += (preds==labs).sum().item()\n",
    "        total += labs.size(0)\n",
    "        train_iter.set_postfix(loss=f\"{loss.item():.4f}\", acc=f\"{corr/total:.3f}\")\n",
    "\n",
    "    train_losses.append(rloss/total)\n",
    "    train_accs.append(corr/total)\n",
    "\n",
    "    # Validación\n",
    "    model.eval()\n",
    "    rloss, corr, total = 0.0, 0, 0\n",
    "    val_iter = tqdm(val_loader, desc=f\"Epoch {epoch}/{num_epochs} [ Val ]\", leave=False)\n",
    "    with torch.no_grad():\n",
    "        for imgs, sens, labs in val_iter:\n",
    "            imgs, sens, labs = imgs.to(device), sens.to(device), labs.to(device)\n",
    "            with autocast():\n",
    "                outputs = model(imgs, sens)\n",
    "                loss = criterion(outputs, labs)\n",
    "\n",
    "            rloss += loss.item()*labs.size(0)\n",
    "            preds = outputs.argmax(1)\n",
    "            corr += (preds==labs).sum().item()\n",
    "            total += labs.size(0)\n",
    "            val_iter.set_postfix(loss=f\"{loss.item():.4f}\", acc=f\"{corr/total:.3f}\")\n",
    "\n",
    "    val_losses.append(rloss/total)\n",
    "    val_accs.append(corr/total)\n",
    "\n",
    "    # Al acabar validación, guardamos el modelo.\n",
    "    val_loss_epoch = val_losses[-1]\n",
    "    if val_loss_epoch < best_val_loss:\n",
    "        best_val_loss = val_loss_epoch\n",
    "        torch.save(model.state_dict(), 'modelos/best_model.pt')\n",
    "        print(f\"→ Guardado nuevo mejor modelo (val_loss={best_val_loss:.4f})\")\n",
    "\n",
    "    # Mostrar resumen\n",
    "    print(f\"Epoch {epoch}/{num_epochs} | \"\n",
    "          f\"Train Loss: {train_losses[-1]:.4f}, Acc: {train_accs[-1]:.3f} | \"\n",
    "          f\" Val Loss: {val_losses[-1]:.4f}, Acc: {val_accs[-1]:.3f}\")"
   ]
  },
  {
   "cell_type": "code",
   "execution_count": 11,
   "id": "ce4ed1f9",
   "metadata": {},
   "outputs": [
    {
     "data": {
      "image/png": "[encoded data removed]",
      "text/plain": [
       "<Figure size 1000x400 with 2 Axes>"
      ]
     },
     "metadata": {},
     "output_type": "display_data"
    }
   ],
   "source": [
    "# 10) Gráficos de métricas\n",
    "plt.figure(figsize=(10, 4))\n",
    "\n",
    "plt.subplot(1, 2, 1)\n",
    "plt.plot(range(1, num_epochs + 1), train_losses, label='Train Loss')\n",
    "plt.plot(range(1, num_epochs + 1), val_losses, label='Val Loss')\n",
    "plt.title('Loss por Epoch')\n",
    "plt.xlabel('Epoch')\n",
    "plt.ylabel('Loss')\n",
    "plt.legend()\n",
    "\n",
    "plt.subplot(1, 2, 2)\n",
    "plt.plot(range(1, num_epochs + 1), train_accs, label='Train Acc')\n",
    "plt.plot(range(1, num_epochs + 1), val_accs, label='Val Acc')\n",
    "plt.title('Accuracy por Epoch')\n",
    "plt.xlabel('Epoch')\n",
    "plt.ylabel('Accuracy')\n",
    "plt.legend()\n",
    "\n",
    "plt.tight_layout()\n",
    "plt.show()"
   ]
  },
  {
   "cell_type": "code",
   "execution_count": 12,
   "id": "85502c6f",
   "metadata": {},
   "outputs": [
    {
     "name": "stdout",
     "output_type": "stream",
     "text": [
      "              precision    recall  f1-score   support\n",
      "\n",
      "     enfermo       1.00      1.00      1.00      1154\n",
      " estres_leve       0.90      0.97      0.93       632\n",
      "   saludable       0.98      0.94      0.96      1051\n",
      "\n",
      "    accuracy                           0.97      2837\n",
      "   macro avg       0.96      0.97      0.96      2837\n",
      "weighted avg       0.97      0.97      0.97      2837\n",
      "\n"
     ]
    },
    {
     "data": {
      "image/png": "[encoded data removed]",
      "text/plain": [
       "<Figure size 640x480 with 2 Axes>"
      ]
     },
     "metadata": {},
     "output_type": "display_data"
    }
   ],
   "source": [
    "# 11) Reporte final y matriz de confusión\n",
    "all_preds, all_labs = [], []\n",
    "model.eval()\n",
    "with torch.no_grad():\n",
    "    for imgs, sens, labs in val_loader:\n",
    "        imgs, sens = imgs.to(device), sens.to(device)\n",
    "        preds = model(imgs, sens).argmax(1).cpu().numpy()\n",
    "        all_preds.extend(preds)\n",
    "        all_labs.extend(labs.numpy())\n",
    "\n",
    "print(classification_report(all_labs, all_preds, target_names=['enfermo','estres_leve','saludable']))\n",
    "cm = confusion_matrix(all_labs, all_preds)\n",
    "_ = ConfusionMatrixDisplay(cm, display_labels=['enfermo','estres_leve','saludable']).plot(cmap='Blues')\n",
    "plt.show()"
   ]
  }
 ],
 "metadata": {
  "kernelspec": {
   "display_name": ".venv",
   "language": "python",
   "name": "python3"
  },
  "language_info": {
   "codemirror_mode": {
    "name": "ipython",
    "version": 3
   },
   "file_extension": ".py",
   "mimetype": "text/x-python",
   "name": "python",
   "nbconvert_exporter": "python",
   "pygments_lexer": "ipython3",
   "version": "3.12.6"
  }
 },
 "nbformat": 4,
 "nbformat_minor": 5
}
