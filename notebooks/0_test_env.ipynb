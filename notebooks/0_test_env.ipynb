{
 "cells": [
  {
   "cell_type": "markdown",
   "id": "e1c44461",
   "metadata": {},
   "source": [
    "### Confirmar que el entorno virtual funciona adecuadamente"
   ]
  },
  {
   "cell_type": "code",
   "execution_count": 1,
   "id": "f0937eb2",
   "metadata": {},
   "outputs": [
    {
     "name": "stdout",
     "output_type": "stream",
     "text": [
      "Python executable: d:\\Proyecto_Peces\\.venv\\Scripts\\python.exe\n",
      "OpenCV version: 4.11.0\n",
      "Pandas version: 2.2.3\n",
      "Torch version: 2.7.1+cpu\n"
     ]
    }
   ],
   "source": [
    "import sys\n",
    "import cv2, pandas\n",
    "import torch\n",
    "\n",
    "print(\"Python executable:\", sys.executable)\n",
    "print(\"OpenCV version:\", cv2.__version__)\n",
    "print(\"Pandas version:\", pandas.__version__)\n",
    "print(\"Torch version:\", torch.__version__)"
   ]
  }
 ],
 "metadata": {
  "kernelspec": {
   "display_name": ".venv",
   "language": "python",
   "name": "python3"
  },
  "language_info": {
   "codemirror_mode": {
    "name": "ipython",
    "version": 3
   },
   "file_extension": ".py",
   "mimetype": "text/x-python",
   "name": "python",
   "nbconvert_exporter": "python",
   "pygments_lexer": "ipython3",
   "version": "3.12.6"
  }
 },
 "nbformat": 4,
 "nbformat_minor": 5
}
